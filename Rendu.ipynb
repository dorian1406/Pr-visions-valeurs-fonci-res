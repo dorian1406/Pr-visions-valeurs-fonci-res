{
 "cells": [
  {
   "cell_type": "markdown",
   "metadata": {
    "id": "4cbgwZWWfWpp"
   },
   "source": [
    "# Étude des transactions immobilières intervenues au cours des cinq dernières années"
   ]
  },
  {
   "cell_type": "code",
   "execution_count": 85,
   "metadata": {
    "id": "tAb77yZ9fzMG"
   },
   "outputs": [],
   "source": [
    "import pandas as pd\n",
    "import numpy as np\n",
    "from sklearn import metrics\n",
    "from matplotlib import pyplot\n",
    "from sklearn.model_selection import KFold\n",
    "from sklearn.model_selection import cross_val_score\n",
    "from sklearn.linear_model import LogisticRegression\n",
    "from sklearn.tree import DecisionTreeRegressor\n",
    "from sklearn.neighbors import KNeighborsClassifier\n",
    "from sklearn.discriminant_analysis import LinearDiscriminantAnalysis\n",
    "from sklearn.naive_bayes import GaussianNB\n",
    "from sklearn.model_selection import train_test_split\n",
    "from sklearn.svm import SVC\n",
    "from sklearn.metrics import confusion_matrix\n",
    "from sklearn.metrics import f1_score\n",
    "from sklearn.model_selection import GridSearchCV\n",
    "from sklearn.linear_model import LinearRegression\n"
   ]
  },
  {
   "cell_type": "code",
   "execution_count": 2,
   "metadata": {
    "colab": {
     "base_uri": "https://localhost:8080/"
    },
    "id": "pafL7Li0jyXW",
    "outputId": "2f185c74-7b46-4b4e-e418-101f32c6a139"
   },
   "outputs": [
    {
     "name": "stderr",
     "output_type": "stream",
     "text": [
      "/usr/local/lib/python3.7/dist-packages/IPython/core/interactiveshell.py:2718: DtypeWarning: Columns (10,12,14,16,17,18,20,22,24,35,36) have mixed types.Specify dtype option on import or set low_memory=False.\n",
      "  interactivity=interactivity, compiler=compiler, result=result)\n",
      "/usr/local/lib/python3.7/dist-packages/IPython/core/interactiveshell.py:2718: DtypeWarning: Columns (10,12,14,16,17,18,20,22,24,26,35,36) have mixed types.Specify dtype option on import or set low_memory=False.\n",
      "  interactivity=interactivity, compiler=compiler, result=result)\n",
      "/usr/local/lib/python3.7/dist-packages/IPython/core/interactiveshell.py:2718: DtypeWarning: Columns (10,12,14,16,17,18,20,22,35,36) have mixed types.Specify dtype option on import or set low_memory=False.\n",
      "  interactivity=interactivity, compiler=compiler, result=result)\n",
      "/usr/local/lib/python3.7/dist-packages/IPython/core/interactiveshell.py:2718: DtypeWarning: Columns (8,10,12,14,16,17,18,20,22,26,35,36) have mixed types.Specify dtype option on import or set low_memory=False.\n",
      "  interactivity=interactivity, compiler=compiler, result=result)\n",
      "/usr/local/lib/python3.7/dist-packages/IPython/core/interactiveshell.py:2718: DtypeWarning: Columns (10,12,17,18,20,22,35,36) have mixed types.Specify dtype option on import or set low_memory=False.\n",
      "  interactivity=interactivity, compiler=compiler, result=result)\n"
     ]
    }
   ],
   "source": [
    "data2015 = pd.read_csv(\"https://cadastre.data.gouv.fr/data/etalab-dvf/latest/csv/2015/full.csv.gz\", sep=',')\n",
    "data2016 = pd.read_csv(\"https://cadastre.data.gouv.fr/data/etalab-dvf/latest/csv/2016/full.csv.gz\", sep=',')\n",
    "data2017 = pd.read_csv(\"https://cadastre.data.gouv.fr/data/etalab-dvf/latest/csv/2017/full.csv.gz\", sep=',')\n",
    "data2018 = pd.read_csv(\"https://cadastre.data.gouv.fr/data/etalab-dvf/latest/csv/2018/full.csv.gz\", sep=',')\n",
    "data2019 = pd.read_csv(\"https://cadastre.data.gouv.fr/data/etalab-dvf/latest/csv/2019/full.csv.gz\", sep=',')\n",
    "data2020 = pd.read_csv(\"https://cadastre.data.gouv.fr/data/etalab-dvf/latest/csv/2020/full.csv.gz\", sep=',')\n"
   ]
  },
  {
   "cell_type": "markdown",
   "metadata": {
    "id": "cbQWgz-24zug"
   },
   "source": [
    "## Division du dataframe en 2"
   ]
  },
  {
   "cell_type": "code",
   "execution_count": 3,
   "metadata": {
    "id": "fIKVUYtR4-p1"
   },
   "outputs": [],
   "source": [
    "frames1 = [data2015, data2016, data2017, data2018, data2019]\n",
    "frames2= data2020"
   ]
  },
  {
   "cell_type": "code",
   "execution_count": 4,
   "metadata": {
    "id": "wJZN__3E5LMT"
   },
   "outputs": [],
   "source": [
    "result = pd.concat(frames1)\n"
   ]
  },
  {
   "cell_type": "markdown",
   "metadata": {
    "id": "_Nmql5wL5Uyz"
   },
   "source": [
    "#**Analyse du Dataset**\n",
    "\n",
    "\n",
    "\n",
    "\n",
    "\n",
    "\n",
    "\n"
   ]
  },
  {
   "cell_type": "code",
   "execution_count": 5,
   "metadata": {
    "colab": {
     "base_uri": "https://localhost:8080/",
     "height": 275
    },
    "id": "C2fK5sDi5O0x",
    "outputId": "a5cd7c7e-2229-4e7a-c69c-4aeb6014a746"
   },
   "outputs": [
    {
     "data": {
      "text/html": [
       "<div>\n",
       "<style scoped>\n",
       "    .dataframe tbody tr th:only-of-type {\n",
       "        vertical-align: middle;\n",
       "    }\n",
       "\n",
       "    .dataframe tbody tr th {\n",
       "        vertical-align: top;\n",
       "    }\n",
       "\n",
       "    .dataframe thead th {\n",
       "        text-align: right;\n",
       "    }\n",
       "</style>\n",
       "<table border=\"1\" class=\"dataframe\">\n",
       "  <thead>\n",
       "    <tr style=\"text-align: right;\">\n",
       "      <th></th>\n",
       "      <th>id_mutation</th>\n",
       "      <th>date_mutation</th>\n",
       "      <th>numero_disposition</th>\n",
       "      <th>nature_mutation</th>\n",
       "      <th>valeur_fonciere</th>\n",
       "      <th>adresse_numero</th>\n",
       "      <th>adresse_suffixe</th>\n",
       "      <th>adresse_nom_voie</th>\n",
       "      <th>adresse_code_voie</th>\n",
       "      <th>code_postal</th>\n",
       "      <th>code_commune</th>\n",
       "      <th>nom_commune</th>\n",
       "      <th>code_departement</th>\n",
       "      <th>ancien_code_commune</th>\n",
       "      <th>ancien_nom_commune</th>\n",
       "      <th>id_parcelle</th>\n",
       "      <th>ancien_id_parcelle</th>\n",
       "      <th>numero_volume</th>\n",
       "      <th>lot1_numero</th>\n",
       "      <th>lot1_surface_carrez</th>\n",
       "      <th>lot2_numero</th>\n",
       "      <th>lot2_surface_carrez</th>\n",
       "      <th>lot3_numero</th>\n",
       "      <th>lot3_surface_carrez</th>\n",
       "      <th>lot4_numero</th>\n",
       "      <th>lot4_surface_carrez</th>\n",
       "      <th>lot5_numero</th>\n",
       "      <th>lot5_surface_carrez</th>\n",
       "      <th>nombre_lots</th>\n",
       "      <th>code_type_local</th>\n",
       "      <th>type_local</th>\n",
       "      <th>surface_reelle_bati</th>\n",
       "      <th>nombre_pieces_principales</th>\n",
       "      <th>code_nature_culture</th>\n",
       "      <th>nature_culture</th>\n",
       "      <th>code_nature_culture_speciale</th>\n",
       "      <th>nature_culture_speciale</th>\n",
       "      <th>surface_terrain</th>\n",
       "      <th>longitude</th>\n",
       "      <th>latitude</th>\n",
       "    </tr>\n",
       "  </thead>\n",
       "  <tbody>\n",
       "    <tr>\n",
       "      <th>0</th>\n",
       "      <td>2015-1</td>\n",
       "      <td>2015-01-05</td>\n",
       "      <td>2</td>\n",
       "      <td>Vente</td>\n",
       "      <td>120.0</td>\n",
       "      <td>NaN</td>\n",
       "      <td>NaN</td>\n",
       "      <td>ENTRE LES CHEMINS</td>\n",
       "      <td>B181</td>\n",
       "      <td>1250.0</td>\n",
       "      <td>1245</td>\n",
       "      <td>Bohas-Meyriat-Rignat</td>\n",
       "      <td>1</td>\n",
       "      <td>NaN</td>\n",
       "      <td>NaN</td>\n",
       "      <td>012450480B0805</td>\n",
       "      <td>NaN</td>\n",
       "      <td>NaN</td>\n",
       "      <td>NaN</td>\n",
       "      <td>NaN</td>\n",
       "      <td>NaN</td>\n",
       "      <td>NaN</td>\n",
       "      <td>NaN</td>\n",
       "      <td>NaN</td>\n",
       "      <td>NaN</td>\n",
       "      <td>NaN</td>\n",
       "      <td>NaN</td>\n",
       "      <td>NaN</td>\n",
       "      <td>0</td>\n",
       "      <td>NaN</td>\n",
       "      <td>NaN</td>\n",
       "      <td>NaN</td>\n",
       "      <td>NaN</td>\n",
       "      <td>P</td>\n",
       "      <td>prés</td>\n",
       "      <td>NaN</td>\n",
       "      <td>NaN</td>\n",
       "      <td>82.0</td>\n",
       "      <td>5.393771</td>\n",
       "      <td>46.161144</td>\n",
       "    </tr>\n",
       "    <tr>\n",
       "      <th>1</th>\n",
       "      <td>2015-2</td>\n",
       "      <td>2015-01-09</td>\n",
       "      <td>1</td>\n",
       "      <td>Vente</td>\n",
       "      <td>12400.0</td>\n",
       "      <td>NaN</td>\n",
       "      <td>NaN</td>\n",
       "      <td>VIGNIEUX</td>\n",
       "      <td>B100</td>\n",
       "      <td>1340.0</td>\n",
       "      <td>1196</td>\n",
       "      <td>Jayat</td>\n",
       "      <td>1</td>\n",
       "      <td>NaN</td>\n",
       "      <td>NaN</td>\n",
       "      <td>011960000A0981</td>\n",
       "      <td>NaN</td>\n",
       "      <td>NaN</td>\n",
       "      <td>NaN</td>\n",
       "      <td>NaN</td>\n",
       "      <td>NaN</td>\n",
       "      <td>NaN</td>\n",
       "      <td>NaN</td>\n",
       "      <td>NaN</td>\n",
       "      <td>NaN</td>\n",
       "      <td>NaN</td>\n",
       "      <td>NaN</td>\n",
       "      <td>NaN</td>\n",
       "      <td>0</td>\n",
       "      <td>NaN</td>\n",
       "      <td>NaN</td>\n",
       "      <td>NaN</td>\n",
       "      <td>NaN</td>\n",
       "      <td>AB</td>\n",
       "      <td>terrains a bâtir</td>\n",
       "      <td>NaN</td>\n",
       "      <td>NaN</td>\n",
       "      <td>1550.0</td>\n",
       "      <td>5.116832</td>\n",
       "      <td>46.378377</td>\n",
       "    </tr>\n",
       "    <tr>\n",
       "      <th>2</th>\n",
       "      <td>2015-3</td>\n",
       "      <td>2015-01-05</td>\n",
       "      <td>2</td>\n",
       "      <td>Vente</td>\n",
       "      <td>110.0</td>\n",
       "      <td>NaN</td>\n",
       "      <td>NaN</td>\n",
       "      <td>ENTRE LES CHEMINS</td>\n",
       "      <td>B181</td>\n",
       "      <td>1250.0</td>\n",
       "      <td>1245</td>\n",
       "      <td>Bohas-Meyriat-Rignat</td>\n",
       "      <td>1</td>\n",
       "      <td>NaN</td>\n",
       "      <td>NaN</td>\n",
       "      <td>012450480B0799</td>\n",
       "      <td>NaN</td>\n",
       "      <td>NaN</td>\n",
       "      <td>NaN</td>\n",
       "      <td>NaN</td>\n",
       "      <td>NaN</td>\n",
       "      <td>NaN</td>\n",
       "      <td>NaN</td>\n",
       "      <td>NaN</td>\n",
       "      <td>NaN</td>\n",
       "      <td>NaN</td>\n",
       "      <td>NaN</td>\n",
       "      <td>NaN</td>\n",
       "      <td>0</td>\n",
       "      <td>NaN</td>\n",
       "      <td>NaN</td>\n",
       "      <td>NaN</td>\n",
       "      <td>NaN</td>\n",
       "      <td>P</td>\n",
       "      <td>prés</td>\n",
       "      <td>NaN</td>\n",
       "      <td>NaN</td>\n",
       "      <td>4.0</td>\n",
       "      <td>5.394334</td>\n",
       "      <td>46.161161</td>\n",
       "    </tr>\n",
       "    <tr>\n",
       "      <th>3</th>\n",
       "      <td>2015-4</td>\n",
       "      <td>2015-01-07</td>\n",
       "      <td>2</td>\n",
       "      <td>Vente</td>\n",
       "      <td>180.0</td>\n",
       "      <td>NaN</td>\n",
       "      <td>NaN</td>\n",
       "      <td>ENTRE LES CHEMINS</td>\n",
       "      <td>B181</td>\n",
       "      <td>1250.0</td>\n",
       "      <td>1245</td>\n",
       "      <td>Bohas-Meyriat-Rignat</td>\n",
       "      <td>1</td>\n",
       "      <td>NaN</td>\n",
       "      <td>NaN</td>\n",
       "      <td>012450480B0798</td>\n",
       "      <td>NaN</td>\n",
       "      <td>NaN</td>\n",
       "      <td>NaN</td>\n",
       "      <td>NaN</td>\n",
       "      <td>NaN</td>\n",
       "      <td>NaN</td>\n",
       "      <td>NaN</td>\n",
       "      <td>NaN</td>\n",
       "      <td>NaN</td>\n",
       "      <td>NaN</td>\n",
       "      <td>NaN</td>\n",
       "      <td>NaN</td>\n",
       "      <td>0</td>\n",
       "      <td>NaN</td>\n",
       "      <td>NaN</td>\n",
       "      <td>NaN</td>\n",
       "      <td>NaN</td>\n",
       "      <td>P</td>\n",
       "      <td>prés</td>\n",
       "      <td>NaN</td>\n",
       "      <td>NaN</td>\n",
       "      <td>298.0</td>\n",
       "      <td>5.394796</td>\n",
       "      <td>46.161583</td>\n",
       "    </tr>\n",
       "    <tr>\n",
       "      <th>4</th>\n",
       "      <td>2015-5</td>\n",
       "      <td>2015-01-12</td>\n",
       "      <td>1</td>\n",
       "      <td>Vente</td>\n",
       "      <td>95000.0</td>\n",
       "      <td>5383.0</td>\n",
       "      <td>NaN</td>\n",
       "      <td>LE BOURG</td>\n",
       "      <td>B026</td>\n",
       "      <td>1160.0</td>\n",
       "      <td>1314</td>\n",
       "      <td>Priay</td>\n",
       "      <td>1</td>\n",
       "      <td>NaN</td>\n",
       "      <td>NaN</td>\n",
       "      <td>013140000E0644</td>\n",
       "      <td>NaN</td>\n",
       "      <td>NaN</td>\n",
       "      <td>NaN</td>\n",
       "      <td>NaN</td>\n",
       "      <td>NaN</td>\n",
       "      <td>NaN</td>\n",
       "      <td>NaN</td>\n",
       "      <td>NaN</td>\n",
       "      <td>NaN</td>\n",
       "      <td>NaN</td>\n",
       "      <td>NaN</td>\n",
       "      <td>NaN</td>\n",
       "      <td>0</td>\n",
       "      <td>3.0</td>\n",
       "      <td>Dépendance</td>\n",
       "      <td>NaN</td>\n",
       "      <td>0.0</td>\n",
       "      <td>S</td>\n",
       "      <td>sols</td>\n",
       "      <td>NaN</td>\n",
       "      <td>NaN</td>\n",
       "      <td>195.0</td>\n",
       "      <td>5.291586</td>\n",
       "      <td>46.002868</td>\n",
       "    </tr>\n",
       "  </tbody>\n",
       "</table>\n",
       "</div>"
      ],
      "text/plain": [
       "  id_mutation date_mutation  ...  longitude   latitude\n",
       "0      2015-1    2015-01-05  ...   5.393771  46.161144\n",
       "1      2015-2    2015-01-09  ...   5.116832  46.378377\n",
       "2      2015-3    2015-01-05  ...   5.394334  46.161161\n",
       "3      2015-4    2015-01-07  ...   5.394796  46.161583\n",
       "4      2015-5    2015-01-12  ...   5.291586  46.002868\n",
       "\n",
       "[5 rows x 40 columns]"
      ]
     },
     "execution_count": 5,
     "metadata": {
      "tags": []
     },
     "output_type": "execute_result"
    }
   ],
   "source": [
    "result.head()"
   ]
  },
  {
   "cell_type": "code",
   "execution_count": 13,
   "metadata": {
    "colab": {
     "base_uri": "https://localhost:8080/"
    },
    "id": "aDI9uChL62I-",
    "outputId": "c5cecaa6-89ed-4297-e8b9-83891283b441"
   },
   "outputs": [
    {
     "name": "stdout",
     "output_type": "stream",
     "text": [
      "<class 'pandas.core.frame.DataFrame'>\n",
      "Int64Index: 15532877 entries, 0 to 3142951\n",
      "Data columns (total 21 columns):\n",
      " #   Column                     Dtype  \n",
      "---  ------                     -----  \n",
      " 0   id_mutation                object \n",
      " 1   date_mutation              object \n",
      " 2   numero_disposition         int64  \n",
      " 3   nature_mutation            object \n",
      " 4   valeur_fonciere            float64\n",
      " 5   adresse_nom_voie           object \n",
      " 6   adresse_code_voie          object \n",
      " 7   code_postal                float64\n",
      " 8   code_commune               object \n",
      " 9   nom_commune                object \n",
      " 10  code_departement           object \n",
      " 11  id_parcelle                object \n",
      " 12  nombre_lots                int64  \n",
      " 13  type_local                 object \n",
      " 14  surface_reelle_bati        float64\n",
      " 15  nombre_pieces_principales  float64\n",
      " 16  code_nature_culture        object \n",
      " 17  nature_culture             object \n",
      " 18  surface_terrain            float64\n",
      " 19  longitude                  float64\n",
      " 20  latitude                   float64\n",
      "dtypes: float64(7), int64(2), object(12)\n",
      "memory usage: 2.5+ GB\n"
     ]
    }
   ],
   "source": [
    "result.info()"
   ]
  },
  {
   "cell_type": "markdown",
   "metadata": {
    "id": "XltAKW5O9buO"
   },
   "source": [
    "Nombre de valeurs nulles ou non définies"
   ]
  },
  {
   "cell_type": "code",
   "execution_count": 7,
   "metadata": {
    "colab": {
     "base_uri": "https://localhost:8080/"
    },
    "id": "QznwtaOS9i_j",
    "outputId": "fe6d78d5-7d1a-4a4a-9a7b-ba6b52c6f940"
   },
   "outputs": [
    {
     "data": {
      "text/plain": [
       "id_mutation                            0\n",
       "date_mutation                          0\n",
       "numero_disposition                     0\n",
       "nature_mutation                        0\n",
       "valeur_fonciere                   209402\n",
       "adresse_numero                   6520989\n",
       "adresse_suffixe                 14874238\n",
       "adresse_nom_voie                  142291\n",
       "adresse_code_voie                 137467\n",
       "code_postal                       143190\n",
       "code_commune                           0\n",
       "nom_commune                            0\n",
       "code_departement                       0\n",
       "ancien_code_commune             15189068\n",
       "ancien_nom_commune              15189068\n",
       "id_parcelle                            0\n",
       "ancien_id_parcelle              15433211\n",
       "numero_volume                   15486590\n",
       "lot1_numero                     10751698\n",
       "lot1_surface_carrez             14238532\n",
       "lot2_numero                     14519054\n",
       "lot2_surface_carrez             15211413\n",
       "lot3_numero                     15364574\n",
       "lot3_surface_carrez             15501252\n",
       "lot4_numero                     15474761\n",
       "lot4_surface_carrez             15524626\n",
       "lot5_numero                     15505311\n",
       "lot5_surface_carrez             15529266\n",
       "nombre_lots                            0\n",
       "code_type_local                  7085061\n",
       "type_local                       7085061\n",
       "surface_reelle_bati              9230585\n",
       "nombre_pieces_principales        7097986\n",
       "code_nature_culture              4843147\n",
       "nature_culture                   4843147\n",
       "code_nature_culture_speciale    14812296\n",
       "nature_culture_speciale         14812296\n",
       "surface_terrain                  4843434\n",
       "longitude                         468455\n",
       "latitude                          468455\n",
       "dtype: int64"
      ]
     },
     "execution_count": 7,
     "metadata": {
      "tags": []
     },
     "output_type": "execute_result"
    }
   ],
   "source": [
    "result.isna().sum()"
   ]
  },
  {
   "cell_type": "markdown",
   "metadata": {
    "id": "R3bI3_3N-JKJ"
   },
   "source": [
    "**On remarque qu'on a que des colonnes avec une quasi totalité de \"Nan\". Il s'agit de Code service CH, Reference document, 1 Articles CGI,2 Articles CGI, 3 Articles CGI, 4 Articles CGI, 5 Articles CGI. Donc on pourrait les supprimer car elles ne nous donnent pas des valeurs importantes  **"
   ]
  },
  {
   "cell_type": "code",
   "execution_count": 8,
   "metadata": {
    "id": "S-hJ-rji-IEy"
   },
   "outputs": [],
   "source": [
    "result.drop(['adresse_numero','adresse_suffixe','ancien_code_commune','ancien_nom_commune','ancien_id_parcelle','numero_volume','lot1_numero','lot1_surface_carrez','lot2_numero','lot2_surface_carrez','lot3_numero','lot3_surface_carrez','lot4_numero','lot4_surface_carrez','lot5_numero','lot5_surface_carrez','code_type_local','code_nature_culture_speciale','nature_culture_speciale'], axis='columns', inplace=True)\n",
    "frames2.drop(['adresse_numero','adresse_suffixe','ancien_code_commune','ancien_nom_commune','ancien_id_parcelle','numero_volume','lot1_numero','lot1_surface_carrez','lot2_numero','lot2_surface_carrez','lot3_numero','lot3_surface_carrez','lot4_numero','lot4_surface_carrez','lot5_numero','lot5_surface_carrez','code_type_local','code_nature_culture_speciale','nature_culture_speciale'], axis='columns', inplace=True)"
   ]
  },
  {
   "cell_type": "code",
   "execution_count": 10,
   "metadata": {
    "id": "g4EI8F6i94kv"
   },
   "outputs": [],
   "source": [
    "def mem_usage(pandas_obj):\n",
    "    if isinstance(pandas_obj,pd.DataFrame):\n",
    "        usage_b = pandas_obj.memory_usage(deep=True).sum()\n",
    "    else:\n",
    "        usage_b = pandas_obj.memory_usage(deep=True)    \n",
    "    usage_mb = usage_b / 1024 ** 2 # convertir les bytes en megabytes\n",
    "    return \"{:03.2f} MB\".format(usage_mb)"
   ]
  },
  {
   "cell_type": "code",
   "execution_count": 9,
   "metadata": {
    "id": "7W0XpWfn-o7E"
   },
   "outputs": [],
   "source": [
    "del data2015\n",
    "del data2016\n",
    "del data2017\n",
    "del data2018\n",
    "del data2019\n",
    "del data2020\n",
    "del frames1"
   ]
  },
  {
   "cell_type": "code",
   "execution_count": 11,
   "metadata": {
    "colab": {
     "base_uri": "https://localhost:8080/",
     "height": 35
    },
    "id": "-EGE6rGM-w9F",
    "outputId": "bdac41f0-9513-42b6-88e1-5f648e0e88d8"
   },
   "outputs": [
    {
     "data": {
      "application/vnd.google.colaboratory.intrinsic+json": {
       "type": "string"
      },
      "text/plain": [
       "'11751.94 MB'"
      ]
     },
     "execution_count": 11,
     "metadata": {
      "tags": []
     },
     "output_type": "execute_result"
    }
   ],
   "source": [
    "mem_usage(result)"
   ]
  },
  {
   "cell_type": "markdown",
   "metadata": {
    "id": "mFyHZ19tAgYl"
   },
   "source": [
    "**Regardons la distribution de toutes les variables numériques **\n"
   ]
  },
  {
   "cell_type": "code",
   "execution_count": 17,
   "metadata": {
    "colab": {
     "base_uri": "https://localhost:8080/",
     "height": 912
    },
    "id": "DYlBj2BO_jIJ",
    "outputId": "844e51df-3ad0-41ef-f850-d6f19c91aae9"
   },
   "outputs": [
    {
     "data": {
      "image/png": "[encoded data removed]",
      "text/plain": [
       "<Figure size 1440x1080 with 9 Axes>"
      ]
     },
     "metadata": {
      "needs_background": "light",
      "tags": []
     },
     "output_type": "display_data"
    }
   ],
   "source": [
    "result.hist(bins=50, figsize=(20,15))\n",
    "pyplot.show()"
   ]
  },
  {
   "cell_type": "markdown",
   "metadata": {
    "id": "DRuCXuiMJj3i"
   },
   "source": [
    "### Valeurs possibles pour chaque variable"
   ]
  },
  {
   "cell_type": "code",
   "execution_count": 34,
   "metadata": {
    "colab": {
     "base_uri": "https://localhost:8080/"
    },
    "id": "r1PySkrHJtQk",
    "outputId": "42210958-6080-43e7-b02b-295d1963b90a"
   },
   "outputs": [
    {
     "name": "stdout",
     "output_type": "stream",
     "text": [
      "id_mutation\n",
      "['2015-1' '2015-4' '2015-5' ... '2019-1352698' '2019-1352699'\n",
      " '2019-1352701']\n",
      "date_mutation\n",
      "['2015-01-05' '2015-01-07' '2015-01-12' ... '2019-12-22' '2019-11-17'\n",
      " '2019-10-20']\n",
      "numero_disposition\n",
      "[  2   1   3   4   5   6   7   8   9  10  12  13  14  15  16  17  11  19\n",
      "  21  22  23  40  49  52  53  59  61  62  67  74  77  81  18  24  25  27\n",
      "  29  30  31  32  33  34  37  38  41  42  43  44  46  47  20  26  28  35\n",
      "  36  45  48  50  51  54  55  39  60  65  71  72  73  78  86  87 133 135\n",
      " 142 145  57  63  70  75  76  79  80  82  83  84  85  88  89  90  91  92\n",
      "  93  94  95  96  97  98  99 101 102 103 104 105 106 107 108 109 110 111\n",
      " 112 113 114 115 116 117 118 123 124 125 126 128  56  58  64  66  68  69\n",
      " 100 120 121 119 122 127 130 131 132 138 139 140 141 143 146 147 151 152\n",
      " 153 154 156 157 158 159 162 163 164 166 167 168 169 170 171 172 174 175\n",
      " 176 179 182 183 186 188 189 190 191 192 193 194 195 196 197 199 200 201\n",
      " 202 203 205 208 209 210 211 212 222 223 224 225 226 227 232 235 238 239\n",
      " 245 246 247 248 249 250 251 252 253 254 255 256 257 258 259 261 262 263\n",
      " 264 265 266 267 268 269 270 271 272 273 289 305 322 323 324 325 326 327\n",
      " 328 329 334 336 337 341 342 343 344 346 347 349 352 129 137 144 149 150\n",
      " 155 160 165 173 134 148 161 177 178 181 184 185 187 198 207 214 217 218\n",
      " 219 228 229 230 231 233 234 236 240 241 242 243 260 136]\n",
      "nature_mutation\n",
      "['Vente' 'Vente terrain à bâtir' \"Vente en l'état futur d'achèvement\"\n",
      " 'Echange' 'Adjudication' 'Expropriation']\n",
      "valeur_fonciere\n",
      "[1.200000e+02 1.800000e+02 9.500000e+04 ... 1.090387e+06 3.209050e+05\n",
      " 1.752100e+07]\n",
      "adresse_nom_voie\n",
      "['ENTRE LES CHEMINS' 'LE BOURG' 'LES ROCHES' ... 'SEN DES DOREES'\n",
      " 'RUE CHARLES V' 'RUE JEAN DU BELLAY']\n",
      "adresse_code_voie\n",
      "['B181' 'B026' 'B086' ... '7477' '9948' '9339']\n",
      "code_postal\n",
      "[ 1250.  1160.  1440. ... 97319. 97312. 97316.]\n",
      "code_commune\n",
      "[1245 1314 1304 ... 88144 88187 89126]\n",
      "nom_commune\n",
      "['Bohas-Meyriat-Rignat' 'Priay' \"Pont-d'Ain\" ... 'Aizecourt-le-Haut'\n",
      " 'Domèvre-sous-Montfort' 'Courtoin']\n",
      "code_departement\n",
      "[1 2 3 4 5 6 7 8 9 10 11 12 13 14 50 15 16 17 18 19 21 22 23 24 25 26 27\n",
      " 28 29 '29' '2A' '2B' '30' 30 31 32 33 34 35 36 37 38 39 40 41 42 43 44 49\n",
      " 45 46 47 48 51 52 53 54 55 56 58 59 60 61 62 63 64 65 66 69 70 71 72 73\n",
      " 74 76 77 78 79 80 81 82 83 84 85 86 87 88 89 90 91 92 93 94 95 971 972\n",
      " 973 974 75]\n",
      "id_parcelle\n",
      "['012450480B0805' '012450480B0798' '013140000E0644' ... '75102000AH0022'\n",
      " '75104000AW0061' '75104000AU0011']\n",
      "nombre_lots\n",
      "[  0   2   1   6   4  95   3   7   5   9  13  15   8  26  22  17  53 109\n",
      "  87  11  18  10 149 147 150 110  14  25  16  20  12  19  47  29  33  43\n",
      "  46  27  31  71  28  24  21  38  55  45  35  23  65  69  36  34  67  30\n",
      "  32 115  61  40  54 170  70 114  37  39  80  41  52  66  44 111  60  75\n",
      "  62 120  42  58  78 223  51 117 100  56 112  48  74  79  49 184 116 126\n",
      "  92 137  93 104  57 101  90 131  72  50 136  88  64  76  84 118 141  81\n",
      "  68  85 159  98 142 175]\n",
      "type_local\n",
      "[nan 'Dépendance' 'Maison' 'Appartement'\n",
      " 'Local industriel. commercial ou assimilé']\n",
      "surface_reelle_bati\n",
      "[   nan    71.   140. ...  7876. 14400.  6648.]\n",
      "nombre_pieces_principales\n",
      "[ nan   0.   3.   7.   2.   5.   4.   1.   6.   9.  11.   8.  10.  14.\n",
      "  13.  12.  43.  15.  24.  17.  25.  20.  30.  22.  21.  16.  19.  52.\n",
      "  41.  86.  18.  35.  26.  40.  51.  95.  94.  29.  39.  71.  23.  33.\n",
      "  44.  45.  60.  32.  96.  27.  66.  81.  34.  28.  36.  53.  54.  50.\n",
      "  68.  37.  31.  47.  55.  93. 112.  78.  58.  70.  63.  38.]\n",
      "code_nature_culture\n",
      "['P' 'S' 'BT' 'T' 'J' 'BS' nan 'AB' 'L' 'VI' 'E' 'AG' 'PA' 'BP' 'BR' 'VE'\n",
      " 'CA' 'B' 'BM' 'BF' 'CH' 'PP' 'PC' 'TP' 'LB' 'BO' 'PH' 'PE']\n",
      "nature_culture\n",
      "['prés' 'sols' 'taillis simples' 'terres' 'jardins' 'taillis sous futaie'\n",
      " nan 'terrains a bâtir' 'landes' 'vignes' 'eaux' \"terrains d'agrément\"\n",
      " 'pâtures' 'peupleraies' 'futaies résineuses' 'vergers' 'carrières' 'bois'\n",
      " 'futaies mixtes' 'futaies feuillues' 'chemin de fer' 'prés plantes'\n",
      " 'pacages' 'terres plantées' 'landes boisées' 'oseraies' 'herbages'\n",
      " \"prés d'embouche\"]\n",
      "surface_terrain\n",
      "[8.2000e+01 2.9800e+02 1.9500e+02 ... 4.2021e+04 4.6261e+04 8.9263e+04]\n",
      "longitude\n",
      "[5.393771 5.394796 5.291586 ... 2.355736 2.344972 2.353674]\n",
      "latitude\n",
      "[46.161144 46.161583 46.002868 ... 48.854965 48.864196 48.870439]\n",
      "count\n",
      "[1]\n"
     ]
    }
   ],
   "source": [
    "for i in result :\n",
    "    print(i)\n",
    "    print(result[i].unique())"
   ]
  },
  {
   "cell_type": "markdown",
   "metadata": {
    "id": "YorDK3N_931c"
   },
   "source": [
    "### Suppression des valeurs manquantes sur la colonne 'valeur_fonciere'"
   ]
  },
  {
   "cell_type": "code",
   "execution_count": 21,
   "metadata": {
    "colab": {
     "base_uri": "https://localhost:8080/"
    },
    "id": "bBfKECeg_B5U",
    "outputId": "e7a098b9-b01e-427d-a4cb-20a0232a73ae"
   },
   "outputs": [
    {
     "data": {
      "text/plain": [
       "id_mutation                       0\n",
       "date_mutation                     0\n",
       "numero_disposition                0\n",
       "nature_mutation                   0\n",
       "valeur_fonciere                   0\n",
       "adresse_nom_voie               9397\n",
       "adresse_code_voie              9343\n",
       "code_postal                    9350\n",
       "code_commune                      0\n",
       "nom_commune                       0\n",
       "code_departement                  0\n",
       "id_parcelle                       0\n",
       "nombre_lots                       0\n",
       "type_local                   355437\n",
       "surface_reelle_bati          463519\n",
       "nombre_pieces_principales    355865\n",
       "code_nature_culture          277068\n",
       "nature_culture               277068\n",
       "surface_terrain              277083\n",
       "longitude                     46564\n",
       "latitude                      46564\n",
       "dtype: int64"
      ]
     },
     "execution_count": 21,
     "metadata": {
      "tags": []
     },
     "output_type": "execute_result"
    }
   ],
   "source": [
    "index_with_nan = result.index[result.valeur_fonciere.isnull()]\n",
    "index_with_nan_ = frames2.index[frames2.valeur_fonciere.isnull()]\n",
    "\n",
    "index_with_nan.shape\n",
    "index_with_nan_.shape\n",
    "result.drop(index_with_nan,0, inplace=True)\n",
    "frames2.drop(index_with_nan_,0, inplace=True)\n",
    "frames2.isna().sum()"
   ]
  },
  {
   "cell_type": "markdown",
   "metadata": {
    "id": "tCjIpdhKCuHb"
   },
   "source": [
    "### Suppression des lignes ayant des valeurs manquantes aussi bien sur 'surface_reelle_bati' que 'surface_terrain'"
   ]
  },
  {
   "cell_type": "code",
   "execution_count": 23,
   "metadata": {
    "colab": {
     "base_uri": "https://localhost:8080/"
    },
    "id": "gdpHrgFGC3EL",
    "outputId": "4794c5f4-ca4e-4ea9-a532-d7af83c7ed33"
   },
   "outputs": [
    {
     "data": {
      "text/plain": [
       "id_mutation                        0\n",
       "date_mutation                      0\n",
       "numero_disposition                 0\n",
       "nature_mutation                    0\n",
       "valeur_fonciere                    0\n",
       "adresse_nom_voie                2272\n",
       "adresse_code_voie                  0\n",
       "code_postal                     2586\n",
       "code_commune                       0\n",
       "nom_commune                        0\n",
       "code_departement                   0\n",
       "id_parcelle                        0\n",
       "nombre_lots                        0\n",
       "type_local                   3449533\n",
       "surface_reelle_bati          3694777\n",
       "nombre_pieces_principales    3455647\n",
       "code_nature_culture          1271131\n",
       "nature_culture               1271131\n",
       "surface_terrain              1271156\n",
       "longitude                     228531\n",
       "latitude                      228531\n",
       "dtype: int64"
      ]
     },
     "execution_count": 23,
     "metadata": {
      "tags": []
     },
     "output_type": "execute_result"
    }
   ],
   "source": [
    "index_with_nan = result.index[(result.surface_reelle_bati.isnull() & result.surface_terrain.isnull())]\n",
    "#index_with_nan.shape\n",
    "index_with_nan_ = frames2.index[(frames2.surface_reelle_bati.isnull() & frames2.surface_terrain.isnull())]\n",
    "#index_with_nan_.shape\n",
    "result.drop(index_with_nan,0, inplace=True)\n",
    "frames2.drop(index_with_nan_,0, inplace=True)\n",
    "result.isna().sum()"
   ]
  },
  {
   "cell_type": "code",
   "execution_count": null,
   "metadata": {
    "id": "i4odz0_qEBIS"
   },
   "outputs": [],
   "source": [
    "result['date_mutation']=pd.to_datetime(result['date_mutation'])"
   ]
  },
  {
   "cell_type": "markdown",
   "metadata": {
    "id": "_U_B6W_2EOC2"
   },
   "source": [
    "#Analyse à partir des graphes"
   ]
  },
  {
   "cell_type": "code",
   "execution_count": 24,
   "metadata": {
    "colab": {
     "base_uri": "https://localhost:8080/",
     "height": 764
    },
    "id": "-diujEePEEIX",
    "outputId": "974984b5-a849-4832-d7c4-421a05fec2aa"
   },
   "outputs": [
    {
     "data": {
      "text/plain": [
       "<matplotlib.axes._subplots.AxesSubplot at 0x7f903b977410>"
      ]
     },
     "execution_count": 24,
     "metadata": {
      "tags": []
     },
     "output_type": "execute_result"
    },
    {
     "data": {
      "image/png": "[encoded data removed]",
      "text/plain": [
       "<Figure size 1152x432 with 1 Axes>"
      ]
     },
     "metadata": {
      "needs_background": "light",
      "tags": []
     },
     "output_type": "display_data"
    }
   ],
   "source": [
    "result.groupby('nature_mutation')['valeur_fonciere'].sum().plot(kind='bar',figsize=[16,6],title='Valeurs foncieres en fonction de la nature de la mutation',fontsize=20)"
   ]
  },
  {
   "cell_type": "code",
   "execution_count": 25,
   "metadata": {
    "colab": {
     "base_uri": "https://localhost:8080/",
     "height": 422
    },
    "id": "exagev1jEU1f",
    "outputId": "4c003780-3127-42cc-887e-ce3c4db15429"
   },
   "outputs": [
    {
     "data": {
      "text/plain": [
       "<matplotlib.axes._subplots.AxesSubplot at 0x7f903bcd5a50>"
      ]
     },
     "execution_count": 25,
     "metadata": {
      "tags": []
     },
     "output_type": "execute_result"
    },
    {
     "data": {
      "image/png": "[encoded data removed]",
      "text/plain": [
       "<Figure size 1440x432 with 1 Axes>"
      ]
     },
     "metadata": {
      "needs_background": "light",
      "tags": []
     },
     "output_type": "display_data"
    }
   ],
   "source": [
    "result.sort_values('date_mutation').groupby('date_mutation')['valeur_fonciere'].sum().plot(figsize=[20,6],title='Évolution des valeurs foncières de 2015 à 2019')\n"
   ]
  },
  {
   "cell_type": "markdown",
   "metadata": {
    "id": "2em8Cc24Xix7"
   },
   "source": [
    "### De 2015 à 2019, les valeurs foncieres ont connu un pic en mai 2016 "
   ]
  },
  {
   "cell_type": "code",
   "execution_count": 26,
   "metadata": {
    "colab": {
     "base_uri": "https://localhost:8080/",
     "height": 390
    },
    "id": "oRkqNeRgErzB",
    "outputId": "315cb1be-4e23-4e1d-d72d-2e1bc6ae89bb"
   },
   "outputs": [
    {
     "data": {
      "text/plain": [
       "<matplotlib.axes._subplots.AxesSubplot at 0x7f903b977910>"
      ]
     },
     "execution_count": 26,
     "metadata": {
      "tags": []
     },
     "output_type": "execute_result"
    },
    {
     "data": {
      "image/png": "[encoded data removed]",
      "text/plain": [
       "<Figure size 1152x432 with 1 Axes>"
      ]
     },
     "metadata": {
      "tags": []
     },
     "output_type": "display_data"
    }
   ],
   "source": [
    "result.groupby('type_local')['valeur_fonciere'].sum().plot(kind='pie',figsize=[16,6],title='Valeurs foncieres en fonction du type de local',fontsize=20)"
   ]
  },
  {
   "cell_type": "code",
   "execution_count": 27,
   "metadata": {
    "colab": {
     "base_uri": "https://localhost:8080/",
     "height": 390
    },
    "id": "aNUhJ_RSE--a",
    "outputId": "8df584f6-475b-4e0c-af84-b0fc3364b02f"
   },
   "outputs": [
    {
     "data": {
      "text/plain": [
       "<matplotlib.axes._subplots.AxesSubplot at 0x7f903c835b50>"
      ]
     },
     "execution_count": 27,
     "metadata": {
      "tags": []
     },
     "output_type": "execute_result"
    },
    {
     "data": {
      "image/png": "[encoded data removed]",
      "text/plain": [
       "<Figure size 1152x432 with 1 Axes>"
      ]
     },
     "metadata": {
      "tags": []
     },
     "output_type": "display_data"
    }
   ],
   "source": [
    "result['count']=1\n",
    "result.groupby('type_local')['count'].sum().plot(kind='pie', figsize=[16,6],title='Repartition du nombre de biens ',fontsize=20)"
   ]
  },
  {
   "cell_type": "markdown",
   "metadata": {
    "id": "vekBOwSqZ6Rg"
   },
   "source": [
    "###De part les deux diagrammes précédents, on se rend compte que **les appartements suivis par les dependances et les maisons ont eu les valeurs foncieres les plus élévées**. En terme de biens possédés **les appartements et les maisons sont au dessus**. On pourrait dire que **pour quelqu'un qui veux acheter des biens il serait conseillé de le faire sur les appartements et maisons**"
   ]
  },
  {
   "cell_type": "code",
   "execution_count": 185,
   "metadata": {
    "colab": {
     "base_uri": "https://localhost:8080/",
     "height": 966
    },
    "id": "BQlWqd91Iaf6",
    "outputId": "06f123b3-5b67-44f5-b916-d308ec5351e5"
   },
   "outputs": [
    {
     "name": "stdout",
     "output_type": "stream",
     "text": [
      "type_local                                nombre_pieces_principales\n",
      "Maison                                    4.0                          512375\n",
      "Appartement                               3.0                          418285\n",
      "                                          2.0                          409880\n",
      "Maison                                    5.0                          374500\n",
      "                                          3.0                          308542\n",
      "Local industriel. commercial ou assimilé  0.0                          278360\n",
      "Appartement                               1.0                          263175\n",
      "Dépendance                                0.0                          224289\n",
      "Appartement                               4.0                          220080\n",
      "Maison                                    6.0                          156264\n",
      "                                          2.0                          117740\n",
      "                                          7.0                           57718\n",
      "Appartement                               5.0                           56017\n",
      "Maison                                    1.0                           45696\n",
      "                                          8.0                           20964\n",
      "Appartement                               6.0                           10174\n",
      "                                          0.0                            8931\n",
      "Maison                                    9.0                            8019\n",
      "                                          0.0                            5117\n",
      "                                          10.0                           3559\n",
      "Name: count, dtype: int64\n"
     ]
    },
    {
     "data": {
      "text/plain": [
       "<matplotlib.axes._subplots.AxesSubplot at 0x7f90083de090>"
      ]
     },
     "execution_count": 185,
     "metadata": {
      "tags": []
     },
     "output_type": "execute_result"
    },
    {
     "data": {
      "image/png": "[encoded data removed]",
      "text/plain": [
       "<Figure size 8136x360 with 1 Axes>"
      ]
     },
     "metadata": {
      "needs_background": "light",
      "tags": []
     },
     "output_type": "display_data"
    }
   ],
   "source": [
    "# Nombre de biens vendus de 2015 à 2019\n",
    "print(result.groupby(['type_local', 'nombre_pieces_principales'])['count'].sum().nlargest(20))\n",
    "result.groupby(['type_local', 'nombre_pieces_principales'])['count'].sum().plot(kind='bar', figsize=(113,5))"
   ]
  },
  {
   "cell_type": "markdown",
   "metadata": {
    "id": "Q_K-BtYSJjuj"
   },
   "source": [
    "Au vu du schéma précédent on se rend compte que les maisons à 4 pièces et les appartements à 3 pièces sont celles qui ont été les plus vendus"
   ]
  },
  {
   "cell_type": "code",
   "execution_count": 56,
   "metadata": {
    "colab": {
     "base_uri": "https://localhost:8080/",
     "height": 403
    },
    "id": "rv3SqqlWFryl",
    "outputId": "05a381fc-bced-4e4d-9214-02d5cfb903d3"
   },
   "outputs": [
    {
     "data": {
      "text/plain": [
       "<matplotlib.axes._subplots.AxesSubplot at 0x7f9008b33950>"
      ]
     },
     "execution_count": 56,
     "metadata": {
      "tags": []
     },
     "output_type": "execute_result"
    },
    {
     "data": {
      "image/png": "[encoded data removed]",
      "text/plain": [
       "<Figure size 3600x1080 with 1 Axes>"
      ]
     },
     "metadata": {
      "needs_background": "light",
      "tags": []
     },
     "output_type": "display_data"
    }
   ],
   "source": [
    "result.groupby('code_departement')['valeur_fonciere'].sum().plot(kind='bar',figsize=[50,15],title='Valeurs foncieres par departement',fontsize=20)"
   ]
  },
  {
   "cell_type": "markdown",
   "metadata": {
    "id": "FvDgdjuBdl2J"
   },
   "source": [
    "On remarque que **le 92, 94, 75, 93, 95 et 59 sont les départements en France avec les valeurs foncieres les plus élevées**."
   ]
  },
  {
   "cell_type": "code",
   "execution_count": 47,
   "metadata": {
    "colab": {
     "base_uri": "https://localhost:8080/",
     "height": 201
    },
    "id": "GOT4pSD1LR6C",
    "outputId": "c4c8a4ee-22b5-409a-8de5-90d800e549ae"
   },
   "outputs": [
    {
     "data": {
      "text/plain": [
       "<matplotlib.axes._subplots.AxesSubplot at 0x7f903dbc2710>"
      ]
     },
     "execution_count": 47,
     "metadata": {
      "tags": []
     },
     "output_type": "execute_result"
    },
    {
     "data": {
      "image/png": "[encoded data removed]",
      "text/plain": [
       "<Figure size 3600x432 with 1 Axes>"
      ]
     },
     "metadata": {
      "needs_background": "light",
      "tags": []
     },
     "output_type": "display_data"
    }
   ],
   "source": [
    "result.groupby('code_departement')['count'].sum().plot(kind='bar', figsize=[50,6],title='Repartition du nombre de biens vendus par code_departement ',fontsize=20)"
   ]
  },
  {
   "cell_type": "markdown",
   "metadata": {
    "id": "w2Yy2C1TfMGF"
   },
   "source": [
    "**Les biens sont beaucoup plus vendus dans les departements du 59,44,33,17, 24, 92, 93, 94, 95** En prenant aussi en considération le diagramme précédent, s'il faille donner un avis en ce qui concerne des zones de possibles investissements, **le 92, 94, 59, 93, 75 seraient idéales**"
   ]
  },
  {
   "cell_type": "markdown",
   "metadata": {
    "id": "qOrF-JfZjYc_"
   },
   "source": [
    "# ***Prédiction du prix au mètre carré en 2020 (entière) sur la ville de Paris pour les appartements et maison***"
   ]
  },
  {
   "cell_type": "markdown",
   "metadata": {
    "id": "aNibL1OsMtQG"
   },
   "source": [
    "# *Données de la ville de Paris pour les appartements et les maisons entre 2015 et 2019*"
   ]
  },
  {
   "cell_type": "code",
   "execution_count": 58,
   "metadata": {
    "colab": {
     "base_uri": "https://localhost:8080/",
     "height": 309
    },
    "id": "RXnrN4SHMud4",
    "outputId": "89f4589d-cb62-4fa2-f738-159b687cd313"
   },
   "outputs": [
    {
     "data": {
      "text/html": [
       "<div>\n",
       "<style scoped>\n",
       "    .dataframe tbody tr th:only-of-type {\n",
       "        vertical-align: middle;\n",
       "    }\n",
       "\n",
       "    .dataframe tbody tr th {\n",
       "        vertical-align: top;\n",
       "    }\n",
       "\n",
       "    .dataframe thead th {\n",
       "        text-align: right;\n",
       "    }\n",
       "</style>\n",
       "<table border=\"1\" class=\"dataframe\">\n",
       "  <thead>\n",
       "    <tr style=\"text-align: right;\">\n",
       "      <th></th>\n",
       "      <th>id_mutation</th>\n",
       "      <th>date_mutation</th>\n",
       "      <th>numero_disposition</th>\n",
       "      <th>nature_mutation</th>\n",
       "      <th>valeur_fonciere</th>\n",
       "      <th>adresse_nom_voie</th>\n",
       "      <th>adresse_code_voie</th>\n",
       "      <th>code_postal</th>\n",
       "      <th>code_commune</th>\n",
       "      <th>nom_commune</th>\n",
       "      <th>code_departement</th>\n",
       "      <th>id_parcelle</th>\n",
       "      <th>nombre_lots</th>\n",
       "      <th>type_local</th>\n",
       "      <th>surface_reelle_bati</th>\n",
       "      <th>nombre_pieces_principales</th>\n",
       "      <th>code_nature_culture</th>\n",
       "      <th>nature_culture</th>\n",
       "      <th>surface_terrain</th>\n",
       "      <th>longitude</th>\n",
       "      <th>latitude</th>\n",
       "    </tr>\n",
       "  </thead>\n",
       "  <tbody>\n",
       "    <tr>\n",
       "      <th>827100</th>\n",
       "      <td>2020-377318</td>\n",
       "      <td>2020-06-30</td>\n",
       "      <td>1</td>\n",
       "      <td>Vente</td>\n",
       "      <td>520000.0</td>\n",
       "      <td>RUE MONTMARTRE</td>\n",
       "      <td>6513</td>\n",
       "      <td>75002.0</td>\n",
       "      <td>75102</td>\n",
       "      <td>Paris 2e Arrondissement</td>\n",
       "      <td>75</td>\n",
       "      <td>75102000AK0086</td>\n",
       "      <td>2</td>\n",
       "      <td>Appartement</td>\n",
       "      <td>47.0</td>\n",
       "      <td>3.0</td>\n",
       "      <td>NaN</td>\n",
       "      <td>NaN</td>\n",
       "      <td>NaN</td>\n",
       "      <td>2.344134</td>\n",
       "      <td>48.865842</td>\n",
       "    </tr>\n",
       "    <tr>\n",
       "      <th>827101</th>\n",
       "      <td>2020-377319</td>\n",
       "      <td>2020-06-26</td>\n",
       "      <td>1</td>\n",
       "      <td>Vente</td>\n",
       "      <td>1740000.0</td>\n",
       "      <td>RUE REAUMUR</td>\n",
       "      <td>8073</td>\n",
       "      <td>75002.0</td>\n",
       "      <td>75102</td>\n",
       "      <td>Paris 2e Arrondissement</td>\n",
       "      <td>75</td>\n",
       "      <td>75102000AN0122</td>\n",
       "      <td>2</td>\n",
       "      <td>Appartement</td>\n",
       "      <td>150.0</td>\n",
       "      <td>5.0</td>\n",
       "      <td>NaN</td>\n",
       "      <td>NaN</td>\n",
       "      <td>NaN</td>\n",
       "      <td>2.347903</td>\n",
       "      <td>48.867536</td>\n",
       "    </tr>\n",
       "    <tr>\n",
       "      <th>827102</th>\n",
       "      <td>2020-377320</td>\n",
       "      <td>2020-06-25</td>\n",
       "      <td>1</td>\n",
       "      <td>Vente</td>\n",
       "      <td>725000.0</td>\n",
       "      <td>RUE CHARLEMAGNE</td>\n",
       "      <td>1797</td>\n",
       "      <td>75004.0</td>\n",
       "      <td>75104</td>\n",
       "      <td>Paris 4e Arrondissement</td>\n",
       "      <td>75</td>\n",
       "      <td>75104000AM0067</td>\n",
       "      <td>1</td>\n",
       "      <td>Appartement</td>\n",
       "      <td>48.0</td>\n",
       "      <td>3.0</td>\n",
       "      <td>NaN</td>\n",
       "      <td>NaN</td>\n",
       "      <td>NaN</td>\n",
       "      <td>2.359936</td>\n",
       "      <td>48.854633</td>\n",
       "    </tr>\n",
       "    <tr>\n",
       "      <th>827103</th>\n",
       "      <td>2020-377321</td>\n",
       "      <td>2020-06-23</td>\n",
       "      <td>1</td>\n",
       "      <td>Vente</td>\n",
       "      <td>200000.0</td>\n",
       "      <td>RUE CHABANAIS</td>\n",
       "      <td>1669</td>\n",
       "      <td>75002.0</td>\n",
       "      <td>75102</td>\n",
       "      <td>Paris 2e Arrondissement</td>\n",
       "      <td>75</td>\n",
       "      <td>75102000AE0018</td>\n",
       "      <td>3</td>\n",
       "      <td>Appartement</td>\n",
       "      <td>26.0</td>\n",
       "      <td>1.0</td>\n",
       "      <td>NaN</td>\n",
       "      <td>NaN</td>\n",
       "      <td>NaN</td>\n",
       "      <td>2.336652</td>\n",
       "      <td>48.867463</td>\n",
       "    </tr>\n",
       "    <tr>\n",
       "      <th>827104</th>\n",
       "      <td>2020-377322</td>\n",
       "      <td>2020-06-11</td>\n",
       "      <td>1</td>\n",
       "      <td>Vente</td>\n",
       "      <td>433000.0</td>\n",
       "      <td>RUE SAINT-JOSEPH</td>\n",
       "      <td>8659</td>\n",
       "      <td>75002.0</td>\n",
       "      <td>75102</td>\n",
       "      <td>Paris 2e Arrondissement</td>\n",
       "      <td>75</td>\n",
       "      <td>75102000AI0034</td>\n",
       "      <td>1</td>\n",
       "      <td>Appartement</td>\n",
       "      <td>33.0</td>\n",
       "      <td>1.0</td>\n",
       "      <td>NaN</td>\n",
       "      <td>NaN</td>\n",
       "      <td>NaN</td>\n",
       "      <td>2.345110</td>\n",
       "      <td>48.868196</td>\n",
       "    </tr>\n",
       "  </tbody>\n",
       "</table>\n",
       "</div>"
      ],
      "text/plain": [
       "        id_mutation date_mutation  ...  longitude   latitude\n",
       "827100  2020-377318    2020-06-30  ...   2.344134  48.865842\n",
       "827101  2020-377319    2020-06-26  ...   2.347903  48.867536\n",
       "827102  2020-377320    2020-06-25  ...   2.359936  48.854633\n",
       "827103  2020-377321    2020-06-23  ...   2.336652  48.867463\n",
       "827104  2020-377322    2020-06-11  ...   2.345110  48.868196\n",
       "\n",
       "[5 rows x 21 columns]"
      ]
     },
     "execution_count": 58,
     "metadata": {
      "tags": []
     },
     "output_type": "execute_result"
    }
   ],
   "source": [
    "filtered2015_19 = result[(result.date_mutation.between('2015-01-01', '2019-12-31')) & ((result.type_local==\"Appartement\") | (result.type_local==\"Maison\")) &(result.code_departement == 75)]\n",
    "\n",
    "filtered2020= frames2[(frames2.date_mutation.between('2020-01-01', '2020-12-31'))&((frames2.type_local==\"Appartement\") | (frames2.type_local==\"Maison\")) &(frames2.code_departement == 75)]\n",
    "filtered2020.tail()"
   ]
  },
  {
   "cell_type": "markdown",
   "metadata": {
    "id": "OuBnY9_nHrbL"
   },
   "source": [
    "### Ajout de la colonne valeur fonciere au m^2"
   ]
  },
  {
   "cell_type": "code",
   "execution_count": 103,
   "metadata": {
    "colab": {
     "base_uri": "https://localhost:8080/",
     "height": 326
    },
    "id": "xVKI64nSHqwY",
    "outputId": "6a2c8a08-2d11-4167-8798-5994a7428f3b"
   },
   "outputs": [
    {
     "data": {
      "text/html": [
       "<div>\n",
       "<style scoped>\n",
       "    .dataframe tbody tr th:only-of-type {\n",
       "        vertical-align: middle;\n",
       "    }\n",
       "\n",
       "    .dataframe tbody tr th {\n",
       "        vertical-align: top;\n",
       "    }\n",
       "\n",
       "    .dataframe thead th {\n",
       "        text-align: right;\n",
       "    }\n",
       "</style>\n",
       "<table border=\"1\" class=\"dataframe\">\n",
       "  <thead>\n",
       "    <tr style=\"text-align: right;\">\n",
       "      <th></th>\n",
       "      <th>id_mutation</th>\n",
       "      <th>date_mutation</th>\n",
       "      <th>numero_disposition</th>\n",
       "      <th>nature_mutation</th>\n",
       "      <th>valeur_fonciere</th>\n",
       "      <th>adresse_nom_voie</th>\n",
       "      <th>adresse_code_voie</th>\n",
       "      <th>code_postal</th>\n",
       "      <th>code_commune</th>\n",
       "      <th>nom_commune</th>\n",
       "      <th>code_departement</th>\n",
       "      <th>id_parcelle</th>\n",
       "      <th>nombre_lots</th>\n",
       "      <th>type_local</th>\n",
       "      <th>surface_reelle_bati</th>\n",
       "      <th>nombre_pieces_principales</th>\n",
       "      <th>code_nature_culture</th>\n",
       "      <th>nature_culture</th>\n",
       "      <th>surface_terrain</th>\n",
       "      <th>longitude</th>\n",
       "      <th>latitude</th>\n",
       "      <th>count</th>\n",
       "      <th>valeur_fonciere_m^2</th>\n",
       "    </tr>\n",
       "  </thead>\n",
       "  <tbody>\n",
       "    <tr>\n",
       "      <th>2689516</th>\n",
       "      <td>2015-1144814</td>\n",
       "      <td>2015-01-16</td>\n",
       "      <td>1</td>\n",
       "      <td>Vente</td>\n",
       "      <td>1223000.00</td>\n",
       "      <td>RUE DU COMMANDANT RIVIERE</td>\n",
       "      <td>2237</td>\n",
       "      <td>75008.0</td>\n",
       "      <td>75108</td>\n",
       "      <td>Paris 8e Arrondissement</td>\n",
       "      <td>75</td>\n",
       "      <td>75108000BE0052</td>\n",
       "      <td>2</td>\n",
       "      <td>Appartement</td>\n",
       "      <td>112.0</td>\n",
       "      <td>4.0</td>\n",
       "      <td>NaN</td>\n",
       "      <td>NaN</td>\n",
       "      <td>NaN</td>\n",
       "      <td>2.309130</td>\n",
       "      <td>48.872615</td>\n",
       "      <td>1</td>\n",
       "      <td>10919.642857</td>\n",
       "    </tr>\n",
       "    <tr>\n",
       "      <th>2689519</th>\n",
       "      <td>2015-1144817</td>\n",
       "      <td>2015-01-19</td>\n",
       "      <td>1</td>\n",
       "      <td>Vente</td>\n",
       "      <td>260000.00</td>\n",
       "      <td>RUE LA BOETIE</td>\n",
       "      <td>5194</td>\n",
       "      <td>75008.0</td>\n",
       "      <td>75108</td>\n",
       "      <td>Paris 8e Arrondissement</td>\n",
       "      <td>75</td>\n",
       "      <td>75108000BG0044</td>\n",
       "      <td>1</td>\n",
       "      <td>Appartement</td>\n",
       "      <td>29.0</td>\n",
       "      <td>2.0</td>\n",
       "      <td>NaN</td>\n",
       "      <td>NaN</td>\n",
       "      <td>NaN</td>\n",
       "      <td>2.308272</td>\n",
       "      <td>48.872115</td>\n",
       "      <td>1</td>\n",
       "      <td>8965.517241</td>\n",
       "    </tr>\n",
       "    <tr>\n",
       "      <th>2689520</th>\n",
       "      <td>2015-1144818</td>\n",
       "      <td>2015-01-08</td>\n",
       "      <td>1</td>\n",
       "      <td>Vente</td>\n",
       "      <td>219465.65</td>\n",
       "      <td>RUE HEROLD</td>\n",
       "      <td>4619</td>\n",
       "      <td>75001.0</td>\n",
       "      <td>75101</td>\n",
       "      <td>Paris 1er Arrondissement</td>\n",
       "      <td>75</td>\n",
       "      <td>75101000AR0134</td>\n",
       "      <td>1</td>\n",
       "      <td>Appartement</td>\n",
       "      <td>24.0</td>\n",
       "      <td>1.0</td>\n",
       "      <td>NaN</td>\n",
       "      <td>NaN</td>\n",
       "      <td>NaN</td>\n",
       "      <td>2.342434</td>\n",
       "      <td>48.865185</td>\n",
       "      <td>1</td>\n",
       "      <td>9144.402083</td>\n",
       "    </tr>\n",
       "    <tr>\n",
       "      <th>2689521</th>\n",
       "      <td>2015-1144819</td>\n",
       "      <td>2015-01-20</td>\n",
       "      <td>1</td>\n",
       "      <td>Vente</td>\n",
       "      <td>642000.00</td>\n",
       "      <td>RUE DE BRETAGNE</td>\n",
       "      <td>1275</td>\n",
       "      <td>75003.0</td>\n",
       "      <td>75103</td>\n",
       "      <td>Paris 3e Arrondissement</td>\n",
       "      <td>75</td>\n",
       "      <td>75103000AI0013</td>\n",
       "      <td>2</td>\n",
       "      <td>Appartement</td>\n",
       "      <td>68.0</td>\n",
       "      <td>4.0</td>\n",
       "      <td>NaN</td>\n",
       "      <td>NaN</td>\n",
       "      <td>NaN</td>\n",
       "      <td>2.360234</td>\n",
       "      <td>48.863965</td>\n",
       "      <td>1</td>\n",
       "      <td>9441.176471</td>\n",
       "    </tr>\n",
       "    <tr>\n",
       "      <th>2689522</th>\n",
       "      <td>2015-1144820</td>\n",
       "      <td>2015-01-16</td>\n",
       "      <td>1</td>\n",
       "      <td>Vente</td>\n",
       "      <td>1000000.00</td>\n",
       "      <td>RUE DU JOUR</td>\n",
       "      <td>5033</td>\n",
       "      <td>75001.0</td>\n",
       "      <td>75101</td>\n",
       "      <td>Paris 1er Arrondissement</td>\n",
       "      <td>75</td>\n",
       "      <td>75101000AR0103</td>\n",
       "      <td>1</td>\n",
       "      <td>Appartement</td>\n",
       "      <td>100.0</td>\n",
       "      <td>3.0</td>\n",
       "      <td>NaN</td>\n",
       "      <td>NaN</td>\n",
       "      <td>NaN</td>\n",
       "      <td>2.344193</td>\n",
       "      <td>48.863734</td>\n",
       "      <td>1</td>\n",
       "      <td>10000.000000</td>\n",
       "    </tr>\n",
       "  </tbody>\n",
       "</table>\n",
       "</div>"
      ],
      "text/plain": [
       "          id_mutation date_mutation  ...  count valeur_fonciere_m^2\n",
       "2689516  2015-1144814    2015-01-16  ...      1        10919.642857\n",
       "2689519  2015-1144817    2015-01-19  ...      1         8965.517241\n",
       "2689520  2015-1144818    2015-01-08  ...      1         9144.402083\n",
       "2689521  2015-1144819    2015-01-20  ...      1         9441.176471\n",
       "2689522  2015-1144820    2015-01-16  ...      1        10000.000000\n",
       "\n",
       "[5 rows x 23 columns]"
      ]
     },
     "execution_count": 103,
     "metadata": {
      "tags": []
     },
     "output_type": "execute_result"
    }
   ],
   "source": [
    "filtered2015_19[\"valeur_fonciere_m^2\"]=filtered2015_19['valeur_fonciere']/filtered2015_19['surface_reelle_bati']\n",
    "filtered2020[\"valeur_fonciere_m^2\"]=filtered2020['valeur_fonciere']/filtered2020['surface_reelle_bati']\n",
    "filtered2015_19.head()"
   ]
  },
  {
   "cell_type": "code",
   "execution_count": 60,
   "metadata": {
    "colab": {
     "base_uri": "https://localhost:8080/"
    },
    "id": "vGTSS6HVQZJW",
    "outputId": "7179b90f-3c48-4745-d14f-9fbd1655de0b"
   },
   "outputs": [
    {
     "data": {
      "text/plain": [
       "id_mutation                       0\n",
       "date_mutation                     0\n",
       "numero_disposition                0\n",
       "nature_mutation                   0\n",
       "valeur_fonciere                   0\n",
       "adresse_nom_voie                 25\n",
       "adresse_code_voie                 0\n",
       "code_postal                      25\n",
       "code_commune                      0\n",
       "nom_commune                       0\n",
       "code_departement                  0\n",
       "id_parcelle                       0\n",
       "nombre_lots                       0\n",
       "type_local                        0\n",
       "surface_reelle_bati               0\n",
       "nombre_pieces_principales         0\n",
       "code_nature_culture          113430\n",
       "nature_culture               113430\n",
       "surface_terrain              113430\n",
       "longitude                       179\n",
       "latitude                        179\n",
       "count                             0\n",
       "valeur_fonciere_m^2               0\n",
       "dtype: int64"
      ]
     },
     "execution_count": 60,
     "metadata": {
      "tags": []
     },
     "output_type": "execute_result"
    }
   ],
   "source": [
    "filtered2015_19.isna().sum()"
   ]
  },
  {
   "cell_type": "code",
   "execution_count": 61,
   "metadata": {
    "colab": {
     "base_uri": "https://localhost:8080/",
     "height": 422
    },
    "id": "eazYDx0PPp2Q",
    "outputId": "88e158b3-aa02-4549-eacc-3b59ad79c49d"
   },
   "outputs": [
    {
     "data": {
      "text/plain": [
       "<matplotlib.axes._subplots.AxesSubplot at 0x7f9008843250>"
      ]
     },
     "execution_count": 61,
     "metadata": {
      "tags": []
     },
     "output_type": "execute_result"
    },
    {
     "data": {
      "image/png": "[encoded data removed]",
      "text/plain": [
       "<Figure size 1440x432 with 1 Axes>"
      ]
     },
     "metadata": {
      "needs_background": "light",
      "tags": []
     },
     "output_type": "display_data"
    }
   ],
   "source": [
    "filtered2015_19.sort_values('date_mutation').groupby('date_mutation')['valeur_fonciere_m^2'].sum().plot(figsize=[20,6],title='Évolution des valeurs foncières au m^2 de 2015 à 2019 dans la ville de Paris')\n"
   ]
  },
  {
   "cell_type": "markdown",
   "metadata": {
    "id": "DpNk5xv7Uzaq"
   },
   "source": [
    "###Correlation entre la 'valeur_fonciere_m^2' et les autres colonnes\n"
   ]
  },
  {
   "cell_type": "code",
   "execution_count": 62,
   "metadata": {
    "colab": {
     "base_uri": "https://localhost:8080/"
    },
    "id": "I-eT_GOiQpoF",
    "outputId": "10376db9-b2a9-4eb3-c594-a41f1b0480c5"
   },
   "outputs": [
    {
     "data": {
      "text/plain": [
       "numero_disposition           0.001844\n",
       "code_postal                  0.016803\n",
       "nombre_pieces_principales    0.018711\n",
       "surface_reelle_bati          0.019824\n",
       "latitude                     0.020114\n",
       "longitude                    0.029642\n",
       "surface_terrain              0.038009\n",
       "nombre_lots                  0.063370\n",
       "valeur_fonciere              0.900012\n",
       "count                             NaN\n",
       "Name: valeur_fonciere_m^2, dtype: float64"
      ]
     },
     "execution_count": 62,
     "metadata": {
      "tags": []
     },
     "output_type": "execute_result"
    }
   ],
   "source": [
    "#filtered2015_19.pop(\"valeur_fonciere\")\n",
    "#filtered2020.pop(\"valeur_fonciere\")\n",
    "filtered2015_19.corr().abs().sort_values('valeur_fonciere_m^2')['valeur_fonciere_m^2'].drop(index='valeur_fonciere_m^2')"
   ]
  },
  {
   "cell_type": "code",
   "execution_count": 63,
   "metadata": {
    "colab": {
     "base_uri": "https://localhost:8080/",
     "height": 532
    },
    "id": "FJt1SrsKV_4s",
    "outputId": "14be412c-ad8c-49c2-876e-f7327eef3838"
   },
   "outputs": [
    {
     "data": {
      "text/plain": [
       "<matplotlib.axes._subplots.AxesSubplot at 0x7f9008856890>"
      ]
     },
     "execution_count": 63,
     "metadata": {
      "tags": []
     },
     "output_type": "execute_result"
    },
    {
     "data": {
      "image/png": "[encoded data removed]",
      "text/plain": [
       "<Figure size 1152x432 with 1 Axes>"
      ]
     },
     "metadata": {
      "needs_background": "light",
      "tags": []
     },
     "output_type": "display_data"
    }
   ],
   "source": [
    "filtered2015_19.corr().abs().sort_values('valeur_fonciere_m^2')['valeur_fonciere_m^2'].drop(index='valeur_fonciere_m^2').plot(kind='bar',title=\"Corrélation entre 'valeur_fonciere' et les autres colonnes\",figsize=[16,6])"
   ]
  },
  {
   "cell_type": "markdown",
   "metadata": {
    "id": "ZOxfC5MPWdnY"
   },
   "source": [
    "### On observe une majeure correlation entre **'valeur_fonciere_m^2' et 'nombre_lots', 'surface_terrain', 'longitude', 'latitude', 'surface_reelle_bati','nombre_pieces_principales','code_postal', 'numero_disposition'**"
   ]
  },
  {
   "cell_type": "markdown",
   "metadata": {
    "id": "WwrIZZTnj4Xz"
   },
   "source": [
    "### Division des données en train (données allant de 2015 à 2019) et test(données de 2020)"
   ]
  },
  {
   "cell_type": "markdown",
   "metadata": {
    "id": "gB_GMJcvhy6I"
   },
   "source": []
  },
  {
   "cell_type": "code",
   "execution_count": 82,
   "metadata": {
    "id": "nOHMRyDWXLn9"
   },
   "outputs": [],
   "source": [
    "X_train= filtered2015_19[['nombre_lots','surface_reelle_bati',,'nombre_pieces_principales','code_commune','numero_disposition']]\n",
    "y_train=filtered2015_19['valeur_fonciere_m^2']\n",
    "X_test=filtered2020[['nombre_lots','surface_reelle_bati',,'nombre_pieces_principales','code_commune','numero_disposition']]\n",
    "y_test=filtered2020['valeur_fonciere_m^2']"
   ]
  },
  {
   "cell_type": "markdown",
   "metadata": {
    "id": "6dX348g7kOyW"
   },
   "source": [
    "#***Linear Regression***"
   ]
  },
  {
   "cell_type": "code",
   "execution_count": 100,
   "metadata": {
    "colab": {
     "base_uri": "https://localhost:8080/"
    },
    "id": "S1ydgcW4kMTL",
    "outputId": "3fb85d1b-9a5f-4ef2-d652-a2fb0ea38711"
   },
   "outputs": [
    {
     "data": {
      "text/plain": [
       "LinearRegression(copy_X=True, fit_intercept=True, n_jobs=None, normalize=False)"
      ]
     },
     "execution_count": 100,
     "metadata": {
      "tags": []
     },
     "output_type": "execute_result"
    }
   ],
   "source": [
    "linreg = LinearRegression()\n",
    "linreg.fit(X_train, y_train)"
   ]
  },
  {
   "cell_type": "code",
   "execution_count": 101,
   "metadata": {
    "colab": {
     "base_uri": "https://localhost:8080/"
    },
    "id": "GnsnmWgzlMJI",
    "outputId": "c34233ad-b163-4550-b1a6-6ba46b9eb4f9"
   },
   "outputs": [
    {
     "name": "stdout",
     "output_type": "stream",
     "text": [
      "148673.02711433006\n"
     ]
    }
   ],
   "source": [
    "y_pred_LR = linreg.predict(X_test)\n",
    "print(np.sqrt(metrics.mean_squared_error(y_test, y_pred_LR)))"
   ]
  },
  {
   "cell_type": "markdown",
   "metadata": {
    "id": "7i20Y7xGq5A6"
   },
   "source": [
    " # ***Decision Trees Regressor***"
   ]
  },
  {
   "cell_type": "code",
   "execution_count": 96,
   "metadata": {
    "colab": {
     "base_uri": "https://localhost:8080/"
    },
    "id": "NtACjW51rDOX",
    "outputId": "c8a479dd-7584-45b8-feca-e171b7c2340f"
   },
   "outputs": [
    {
     "data": {
      "text/plain": [
       "DecisionTreeRegressor(ccp_alpha=0.0, criterion='mse', max_depth=None,\n",
       "                      max_features=None, max_leaf_nodes=None,\n",
       "                      min_impurity_decrease=0.0, min_impurity_split=None,\n",
       "                      min_samples_leaf=1, min_samples_split=2,\n",
       "                      min_weight_fraction_leaf=0.0, presort='deprecated',\n",
       "                      random_state=None, splitter='best')"
      ]
     },
     "execution_count": 96,
     "metadata": {
      "tags": []
     },
     "output_type": "execute_result"
    }
   ],
   "source": [
    "tree_reg = DecisionTreeRegressor(random_state=42)\n",
    "tree_reg.fit(X_train, y_train)\n"
   ]
  },
  {
   "cell_type": "code",
   "execution_count": 97,
   "metadata": {
    "colab": {
     "base_uri": "https://localhost:8080/"
    },
    "id": "m1P--EzRrTC9",
    "outputId": "9b8a8894-1e4c-4fa6-aa91-4cdf767296af"
   },
   "outputs": [
    {
     "name": "stdout",
     "output_type": "stream",
     "text": [
      "796505.3727156429\n"
     ]
    }
   ],
   "source": [
    "y_pred_DTR = tree_reg.predict(X_test)\n",
    "print(np.sqrt(metrics.mean_squared_error(y_test, y_pred_DTR)))\n"
   ]
  },
  {
   "cell_type": "markdown",
   "metadata": {
    "id": "WyI2B_L1wjUe"
   },
   "source": [
    "# ***Random Forest Regressor***"
   ]
  },
  {
   "cell_type": "code",
   "execution_count": 91,
   "metadata": {
    "colab": {
     "base_uri": "https://localhost:8080/"
    },
    "id": "EjxnB59_vEgP",
    "outputId": "10600210-77bc-4c15-da75-07db61d30b29"
   },
   "outputs": [
    {
     "data": {
      "text/plain": [
       "RandomForestRegressor(bootstrap=True, ccp_alpha=0.0, criterion='mse',\n",
       "                      max_depth=None, max_features='auto', max_leaf_nodes=None,\n",
       "                      max_samples=None, min_impurity_decrease=0.0,\n",
       "                      min_impurity_split=None, min_samples_leaf=1,\n",
       "                      min_samples_split=2, min_weight_fraction_leaf=0.0,\n",
       "                      n_estimators=100, n_jobs=None, oob_score=False,\n",
       "                      random_state=42, verbose=0, warm_start=False)"
      ]
     },
     "execution_count": 91,
     "metadata": {
      "tags": []
     },
     "output_type": "execute_result"
    }
   ],
   "source": [
    "from sklearn.ensemble import RandomForestRegressor\n",
    "\n",
    "forest_reg = RandomForestRegressor(n_estimators=100, random_state=42)\n",
    "forest_reg.fit(X_train, y_train)\n"
   ]
  },
  {
   "cell_type": "code",
   "execution_count": 93,
   "metadata": {
    "colab": {
     "base_uri": "https://localhost:8080/"
    },
    "id": "sZRynkKXvHB-",
    "outputId": "247184a5-4d13-4b70-f386-724f4f20f204"
   },
   "outputs": [
    {
     "name": "stdout",
     "output_type": "stream",
     "text": [
      "768066.7119064962\n"
     ]
    }
   ],
   "source": [
    "y_pred_RFR = forest_reg.predict(X_test) \n",
    "print(np.sqrt(metrics.mean_squared_error(y_test, y_pred_RFR)))\n"
   ]
  },
  {
   "cell_type": "markdown",
   "metadata": {
    "id": "bmqbwzWRzbBX"
   },
   "source": [
    "# **Prédiction du prix au mètre carré en 2020 sur les villes de Toulouse et Nantes pour les appartements et maison. Quid de l’impact du covid ?**"
   ]
  },
  {
   "cell_type": "markdown",
   "metadata": {
    "id": "wAfSsHgR0DLA"
   },
   "source": [
    "# Données des villes de Toulouse et Nantes \n",
    "\n"
   ]
  },
  {
   "cell_type": "code",
   "execution_count": null,
   "metadata": {
    "id": "IPjckNMyzs3V"
   },
   "outputs": [],
   "source": [
    "filteredTN2015_19 = result[(result.date_mutation.between('2015-01-01', '2019-12-31')) & ((result.type_local==\"Appartement\") | (result.type_local==\"Maison\")) &((result.nom_commune == 'Toulouse')|(result.nom_commune == 'Nantes'))]\n",
    "filteredTN2020 = frames2[(frames2.date_mutation.between('2020-01-01', '2020-12-31')) & ((frames2.type_local==\"Appartement\") | (frames2.type_local==\"Maison\")) &((frames2.nom_commune == 'Toulouse')|(frames2.nom_commune == 'Nantes'))]\n"
   ]
  },
  {
   "cell_type": "code",
   "execution_count": 111,
   "metadata": {
    "colab": {
     "base_uri": "https://localhost:8080/"
    },
    "id": "TlIn19402uwb",
    "outputId": "dc28eded-52b0-4719-dd62-cea638f3047a"
   },
   "outputs": [
    {
     "name": "stderr",
     "output_type": "stream",
     "text": [
      "/usr/local/lib/python3.7/dist-packages/ipykernel_launcher.py:1: SettingWithCopyWarning: \n",
      "A value is trying to be set on a copy of a slice from a DataFrame.\n",
      "Try using .loc[row_indexer,col_indexer] = value instead\n",
      "\n",
      "See the caveats in the documentation: https://pandas.pydata.org/pandas-docs/stable/user_guide/indexing.html#returning-a-view-versus-a-copy\n",
      "  \"\"\"Entry point for launching an IPython kernel.\n",
      "/usr/local/lib/python3.7/dist-packages/ipykernel_launcher.py:2: SettingWithCopyWarning: \n",
      "A value is trying to be set on a copy of a slice from a DataFrame.\n",
      "Try using .loc[row_indexer,col_indexer] = value instead\n",
      "\n",
      "See the caveats in the documentation: https://pandas.pydata.org/pandas-docs/stable/user_guide/indexing.html#returning-a-view-versus-a-copy\n",
      "  \n"
     ]
    }
   ],
   "source": [
    "filteredTN2015_19[\"valeur_fonciere_m^2\"]=filteredTN2015_19['valeur_fonciere']/filteredTN2015_19['surface_reelle_bati']\n",
    "filteredTN2020[\"valeur_fonciere_m^2\"]=filteredTN2020['valeur_fonciere']/filteredTN2020['surface_reelle_bati']"
   ]
  },
  {
   "cell_type": "code",
   "execution_count": 112,
   "metadata": {
    "colab": {
     "base_uri": "https://localhost:8080/"
    },
    "id": "cAP9nX2c2fST",
    "outputId": "fad0de92-f0c3-42bc-ed2a-36302ced8b49"
   },
   "outputs": [
    {
     "data": {
      "text/plain": [
       "id_mutation                      0\n",
       "date_mutation                    0\n",
       "numero_disposition               0\n",
       "nature_mutation                  0\n",
       "valeur_fonciere                  0\n",
       "adresse_nom_voie                23\n",
       "adresse_code_voie                0\n",
       "code_postal                     25\n",
       "code_commune                     0\n",
       "nom_commune                      0\n",
       "code_departement                 0\n",
       "id_parcelle                      0\n",
       "nombre_lots                      0\n",
       "type_local                       0\n",
       "surface_reelle_bati              0\n",
       "nombre_pieces_principales        0\n",
       "code_nature_culture          38252\n",
       "nature_culture               38252\n",
       "surface_terrain              38252\n",
       "longitude                      656\n",
       "latitude                       656\n",
       "count                            0\n",
       "valeur_fonciere_m^2              0\n",
       "dtype: int64"
      ]
     },
     "execution_count": 112,
     "metadata": {
      "tags": []
     },
     "output_type": "execute_result"
    }
   ],
   "source": [
    "filteredTN2015_19.isna().sum()"
   ]
  },
  {
   "cell_type": "code",
   "execution_count": 139,
   "metadata": {
    "colab": {
     "base_uri": "https://localhost:8080/"
    },
    "id": "7WzHi3-M2j2R",
    "outputId": "d1417ab2-9f39-4aba-b312-3dd6865311aa"
   },
   "outputs": [
    {
     "data": {
      "text/plain": [
       "numero_disposition           0.006371\n",
       "code_postal                  0.024684\n",
       "longitude                    0.027139\n",
       "latitude                     0.027209\n",
       "nombre_pieces_principales    0.054364\n",
       "surface_reelle_bati          0.061324\n",
       "nombre_lots                  0.097120\n",
       "surface_terrain              0.525286\n",
       "valeur_fonciere              0.934010\n",
       "count                             NaN\n",
       "Name: valeur_fonciere_m^2, dtype: float64"
      ]
     },
     "execution_count": 139,
     "metadata": {
      "tags": []
     },
     "output_type": "execute_result"
    }
   ],
   "source": [
    "filteredTN2015_19.corr().abs().sort_values('valeur_fonciere_m^2')['valeur_fonciere_m^2'].drop(index='valeur_fonciere_m^2')"
   ]
  },
  {
   "cell_type": "code",
   "execution_count": 114,
   "metadata": {
    "colab": {
     "base_uri": "https://localhost:8080/",
     "height": 532
    },
    "id": "ETP7658P22GT",
    "outputId": "364fe379-b266-4038-c491-494ce9327da0"
   },
   "outputs": [
    {
     "data": {
      "text/plain": [
       "<matplotlib.axes._subplots.AxesSubplot at 0x7f90088f5050>"
      ]
     },
     "execution_count": 114,
     "metadata": {
      "tags": []
     },
     "output_type": "execute_result"
    },
    {
     "data": {
      "image/png": "[encoded data removed]",
      "text/plain": [
       "<Figure size 1152x432 with 1 Axes>"
      ]
     },
     "metadata": {
      "needs_background": "light",
      "tags": []
     },
     "output_type": "display_data"
    }
   ],
   "source": [
    "filteredTN2015_19.corr().abs().sort_values('valeur_fonciere_m^2')['valeur_fonciere_m^2'].drop(index='valeur_fonciere_m^2').plot(kind='bar',title=\"Corrélation entre 'valeur_fonciere' et les autres colonnes\",figsize=[16,6])"
   ]
  },
  {
   "cell_type": "markdown",
   "metadata": {
    "id": "OBG3haFq3rvC"
   },
   "source": [
    "### Division des données en train (données allant de 2015 à 2019) et test(données de 2020)"
   ]
  },
  {
   "cell_type": "code",
   "execution_count": 115,
   "metadata": {
    "id": "A-Rp1lvC2-3-"
   },
   "outputs": [],
   "source": [
    "X_train= filteredTN2015_19[['nombre_lots','surface_reelle_bati','nombre_pieces_principales','code_commune','numero_disposition']]\n",
    "y_train=filteredTN2015_19['valeur_fonciere_m^2']\n",
    "X_test=filteredTN2020[['nombre_lots','surface_reelle_bati','nombre_pieces_principales','code_commune','numero_disposition']]\n",
    "y_test=filteredTN2020['valeur_fonciere_m^2']"
   ]
  },
  {
   "cell_type": "markdown",
   "metadata": {
    "id": "rhbLtyUt33BG"
   },
   "source": [
    "# ***Linear Regression***"
   ]
  },
  {
   "cell_type": "code",
   "execution_count": 116,
   "metadata": {
    "colab": {
     "base_uri": "https://localhost:8080/"
    },
    "id": "fz3vnZlB3FIA",
    "outputId": "92241246-e497-4775-b4e2-447725dc45d3"
   },
   "outputs": [
    {
     "data": {
      "text/plain": [
       "LinearRegression(copy_X=True, fit_intercept=True, n_jobs=None, normalize=False)"
      ]
     },
     "execution_count": 116,
     "metadata": {
      "tags": []
     },
     "output_type": "execute_result"
    }
   ],
   "source": [
    "linreg = LinearRegression()\n",
    "linreg.fit(X_train, y_train)"
   ]
  },
  {
   "cell_type": "code",
   "execution_count": 117,
   "metadata": {
    "colab": {
     "base_uri": "https://localhost:8080/"
    },
    "id": "ZBtlZugv3GhD",
    "outputId": "32c0015f-171c-40a5-a7ea-aeac0cbfe786"
   },
   "outputs": [
    {
     "name": "stdout",
     "output_type": "stream",
     "text": [
      "28278.52852445259\n"
     ]
    }
   ],
   "source": [
    "y_pred = linreg.predict(X_test)\n",
    "print(np.sqrt(metrics.mean_squared_error(y_test, y_pred)))"
   ]
  },
  {
   "cell_type": "markdown",
   "metadata": {
    "id": "FE8L55rZ4aJw"
   },
   "source": [
    "# ***Decision Trees Regressor***"
   ]
  },
  {
   "cell_type": "code",
   "execution_count": 118,
   "metadata": {
    "colab": {
     "base_uri": "https://localhost:8080/"
    },
    "id": "e2tyfFmA4lAt",
    "outputId": "c4fc9867-ecc0-4124-dd58-93712a3f342b"
   },
   "outputs": [
    {
     "data": {
      "text/plain": [
       "DecisionTreeRegressor(ccp_alpha=0.0, criterion='mse', max_depth=None,\n",
       "                      max_features=None, max_leaf_nodes=None,\n",
       "                      min_impurity_decrease=0.0, min_impurity_split=None,\n",
       "                      min_samples_leaf=1, min_samples_split=2,\n",
       "                      min_weight_fraction_leaf=0.0, presort='deprecated',\n",
       "                      random_state=42, splitter='best')"
      ]
     },
     "execution_count": 118,
     "metadata": {
      "tags": []
     },
     "output_type": "execute_result"
    }
   ],
   "source": [
    "tree_reg = DecisionTreeRegressor(random_state=42)\n",
    "tree_reg.fit(X_train, y_train)"
   ]
  },
  {
   "cell_type": "code",
   "execution_count": 119,
   "metadata": {
    "colab": {
     "base_uri": "https://localhost:8080/"
    },
    "id": "I7T6EGBb4tvY",
    "outputId": "78eccd83-1522-4956-9944-682de267ed7f"
   },
   "outputs": [
    {
     "name": "stdout",
     "output_type": "stream",
     "text": [
      "32716.82402570208\n"
     ]
    }
   ],
   "source": [
    "y_pred_DTR = tree_reg.predict(X_test)\n",
    "print(np.sqrt(metrics.mean_squared_error(y_test, y_pred_DTR)))\n"
   ]
  },
  {
   "cell_type": "markdown",
   "metadata": {
    "id": "gNNrPrTT5buZ"
   },
   "source": [
    "# ***Random Forest Regressor***"
   ]
  },
  {
   "cell_type": "code",
   "execution_count": 120,
   "metadata": {
    "colab": {
     "base_uri": "https://localhost:8080/"
    },
    "id": "GVyqvk8v5P6n",
    "outputId": "0db3f2db-7b77-444f-acd8-db445647545b"
   },
   "outputs": [
    {
     "data": {
      "text/plain": [
       "RandomForestRegressor(bootstrap=True, ccp_alpha=0.0, criterion='mse',\n",
       "                      max_depth=None, max_features='auto', max_leaf_nodes=None,\n",
       "                      max_samples=None, min_impurity_decrease=0.0,\n",
       "                      min_impurity_split=None, min_samples_leaf=1,\n",
       "                      min_samples_split=2, min_weight_fraction_leaf=0.0,\n",
       "                      n_estimators=100, n_jobs=None, oob_score=False,\n",
       "                      random_state=42, verbose=0, warm_start=False)"
      ]
     },
     "execution_count": 120,
     "metadata": {
      "tags": []
     },
     "output_type": "execute_result"
    }
   ],
   "source": [
    "forest_reg = RandomForestRegressor(n_estimators=100, random_state=42)\n",
    "forest_reg.fit(X_train, y_train)"
   ]
  },
  {
   "cell_type": "code",
   "execution_count": 121,
   "metadata": {
    "colab": {
     "base_uri": "https://localhost:8080/"
    },
    "id": "MnfzpxYB5eFf",
    "outputId": "c219504d-acae-4c87-9712-538487ad0e4c"
   },
   "outputs": [
    {
     "name": "stdout",
     "output_type": "stream",
     "text": [
      "32701.921116289763\n"
     ]
    }
   ],
   "source": [
    "y_pred_RFR = forest_reg.predict(X_test) \n",
    "print(np.sqrt(metrics.mean_squared_error(y_test, y_pred_RFR)))\n"
   ]
  },
  {
   "cell_type": "markdown",
   "metadata": {
    "id": "oEVSTZct59pP"
   },
   "source": [
    "# **Prédiction du prix des terrains à bâtir dans le département 70 en 2020**"
   ]
  },
  {
   "cell_type": "markdown",
   "metadata": {
    "id": "EChHKVdT6oQm"
   },
   "source": [
    "### Données des terrains à bâtir dans le 70"
   ]
  },
  {
   "cell_type": "code",
   "execution_count": 183,
   "metadata": {
    "colab": {
     "base_uri": "https://localhost:8080/",
     "height": 69
    },
    "id": "HMRYSyXZ6WuF",
    "outputId": "c6c1d2a0-a318-4bac-f21e-f8f2e6eea08e"
   },
   "outputs": [
    {
     "data": {
      "text/html": [
       "<div>\n",
       "<style scoped>\n",
       "    .dataframe tbody tr th:only-of-type {\n",
       "        vertical-align: middle;\n",
       "    }\n",
       "\n",
       "    .dataframe tbody tr th {\n",
       "        vertical-align: top;\n",
       "    }\n",
       "\n",
       "    .dataframe thead th {\n",
       "        text-align: right;\n",
       "    }\n",
       "</style>\n",
       "<table border=\"1\" class=\"dataframe\">\n",
       "  <thead>\n",
       "    <tr style=\"text-align: right;\">\n",
       "      <th></th>\n",
       "      <th>id_mutation</th>\n",
       "      <th>date_mutation</th>\n",
       "      <th>numero_disposition</th>\n",
       "      <th>nature_mutation</th>\n",
       "      <th>valeur_fonciere</th>\n",
       "      <th>adresse_nom_voie</th>\n",
       "      <th>adresse_code_voie</th>\n",
       "      <th>code_postal</th>\n",
       "      <th>code_commune</th>\n",
       "      <th>nom_commune</th>\n",
       "      <th>code_departement</th>\n",
       "      <th>id_parcelle</th>\n",
       "      <th>nombre_lots</th>\n",
       "      <th>type_local</th>\n",
       "      <th>surface_reelle_bati</th>\n",
       "      <th>nombre_pieces_principales</th>\n",
       "      <th>code_nature_culture</th>\n",
       "      <th>nature_culture</th>\n",
       "      <th>surface_terrain</th>\n",
       "      <th>longitude</th>\n",
       "      <th>latitude</th>\n",
       "    </tr>\n",
       "  </thead>\n",
       "  <tbody>\n",
       "  </tbody>\n",
       "</table>\n",
       "</div>"
      ],
      "text/plain": [
       "Empty DataFrame\n",
       "Columns: [id_mutation, date_mutation, numero_disposition, nature_mutation, valeur_fonciere, adresse_nom_voie, adresse_code_voie, code_postal, code_commune, nom_commune, code_departement, id_parcelle, nombre_lots, type_local, surface_reelle_bati, nombre_pieces_principales, code_nature_culture, nature_culture, surface_terrain, longitude, latitude]\n",
       "Index: []"
      ]
     },
     "execution_count": 183,
     "metadata": {
      "tags": []
     },
     "output_type": "execute_result"
    }
   ],
   "source": [
    "filtered70_2015_19 = result[(result.date_mutation.between('2015-01-01', '2019-12-31')) & (result.nature_culture==\"terrains a bâtir\") &(result.code_departement == 70)]\n",
    "filtered70_2020 = frames2[(frames2.date_mutation.between('2015-01-01', '2019-12-31')) & (frames2.nature_culture==\"terrains a bâtir\") &(frames2.code_departement == 70)]\n",
    "filtered70_2020.head()"
   ]
  },
  {
   "cell_type": "markdown",
   "metadata": {
    "id": "lPm_uiCaHDOe"
   },
   "source": [
    "### Étant donné qu'on a pas d'informations en 2020 dans le 70 en ce qui concerne les terrains à batir, on ne peux donc faire de prédiction"
   ]
  }
 ],
 "metadata": {
  "accelerator": "GPU",
  "colab": {
   "collapsed_sections": [],
   "machine_shape": "hm",
   "name": "HACKANONS COLAB 25GB RAM.ipynb",
   "provenance": []
  },
  "kernelspec": {
   "display_name": "Python 3",
   "language": "python",
   "name": "python3"
  },
  "language_info": {
   "codemirror_mode": {
    "name": "ipython",
    "version": 3
   },
   "file_extension": ".py",
   "mimetype": "text/x-python",
   "name": "python",
   "nbconvert_exporter": "python",
   "pygments_lexer": "ipython3",
   "version": "3.7.4"
  }
 },
 "nbformat": 4,
 "nbformat_minor": 4
}
